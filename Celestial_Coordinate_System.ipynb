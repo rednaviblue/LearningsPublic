{
  "nbformat": 4,
  "nbformat_minor": 0,
  "metadata": {
    "colab": {
      "provenance": [],
      "authorship_tag": "ABX9TyPtZq3wjTm1OrbCyizFhRY0",
      "include_colab_link": true
    },
    "kernelspec": {
      "name": "python3",
      "display_name": "Python 3"
    },
    "language_info": {
      "name": "python"
    }
  },
  "cells": [
    {
      "cell_type": "markdown",
      "metadata": {
        "id": "view-in-github",
        "colab_type": "text"
      },
      "source": [
        "<a href=\"https://colab.research.google.com/github/rednaviblue/LearningsPublic/blob/Geomatics/Celestial_Coordinate_System.ipynb\" target=\"_parent\"><img src=\"https://colab.research.google.com/assets/colab-badge.svg\" alt=\"Open In Colab\"/></a>"
      ]
    },
    {
      "cell_type": "markdown",
      "source": [
        "**TO DO LIST TO EXECUTE THE PROGRAM**\n",
        "1) Run the first cell of code\n",
        "2) Run the second cell of code\n",
        "\n",
        "To Run the code just click the horizontal triangle THE GODDAMN **Play Button**: THIS \"▶\""
      ],
      "metadata": {
        "id": "5xfoZZHlJbTc"
      }
    },
    {
      "cell_type": "code",
      "source": [
        "from google.colab import drive\n",
        "drive.mount('/content/drive')"
      ],
      "metadata": {
        "id": "xgPw7sVbK-qf"
      },
      "execution_count": null,
      "outputs": []
    },
    {
      "cell_type": "code",
      "source": [
        "from google.colab import output\n",
        "output.enable_custom_widget_manager()"
      ],
      "metadata": {
        "id": "66XCRbl1INFy"
      },
      "execution_count": 62,
      "outputs": []
    },
    {
      "cell_type": "code",
      "source": [
        "import numpy as np\n",
        "import plotly.graph_objects as go\n",
        "from plotly.graph_objs import FigureWidget\n",
        "import ipywidgets as widgets\n",
        "from IPython.display import display\n",
        "\n",
        "R = 10.0\n",
        "\n",
        "def sph_to_cart(alt_deg, az_deg, radius=R):\n",
        "    h = np.radians(alt_deg)\n",
        "    A = np.radians(az_deg)\n",
        "    x = radius * np.cos(h) * np.sin(A)\n",
        "    y = radius * np.cos(h) * np.cos(A)\n",
        "    z = radius * np.sin(h)\n",
        "    return x, y, z\n",
        "\n",
        "def circle_xy(radius=R, z_level=0, n=200):\n",
        "    theta = np.linspace(0, 2*np.pi, n)\n",
        "    return radius*np.cos(theta), radius*np.sin(theta), np.full_like(theta, z_level)\n",
        "\n",
        "def almucantar_trace(alt_deg, radius=R):\n",
        "    h = np.radians(alt_deg)\n",
        "    theta = np.linspace(0, 2*np.pi, 240)\n",
        "    r = radius * np.cos(h)\n",
        "    z = np.full_like(theta, radius * np.sin(h))\n",
        "    x = r * np.cos(theta)\n",
        "    y = r * np.sin(theta)\n",
        "    return go.Scatter3d(x=x, y=y, z=z, mode=\"lines\",\n",
        "                        line=dict(color=\"gray\", width=2, dash=\"dot\"),\n",
        "                        name=f\"Almucantar {alt_deg}°\", visible=False)\n",
        "\n",
        "def vertical_circle_trace(az_deg, radius=R):\n",
        "    phi = np.radians(az_deg)\n",
        "    theta = np.linspace(0, np.pi, 200)\n",
        "    x = radius * np.sin(theta) * np.sin(phi)\n",
        "    y = radius * np.sin(theta) * np.cos(phi)\n",
        "    z = radius * np.cos(theta)\n",
        "    return go.Scatter3d(x=x, y=y, z=z, mode=\"lines\",\n",
        "                        line=dict(color=\"blue\", width=3),\n",
        "                        name=f\"Vertical Circle {az_deg}°\", visible=False)\n",
        "\n",
        "u, v = np.mgrid[0:2*np.pi:60j, 0:np.pi:30j]\n",
        "xs = R * np.cos(u) * np.sin(v)\n",
        "ys = R * np.sin(u) * np.sin(v)\n",
        "zs = R * np.cos(v)\n",
        "sphere = go.Surface(x=xs, y=ys, z=zs, opacity=0.12, showscale=False, name=\"Celestial Sphere\", hoverinfo=\"skip\")\n",
        "\n",
        "xh, yh, zh = circle_xy(R, 0)\n",
        "horizon = go.Scatter3d(x=xh, y=yh, z=zh, mode=\"lines\", line=dict(color=\"saddlebrown\", width=3), name=\"Horizon\")\n",
        "\n",
        "zenith = go.Scatter3d(x=[0], y=[0], z=[R], mode=\"markers+text\",\n",
        "                      marker=dict(size=6, color=\"green\"), text=[\"Zenith\"], textposition=\"top center\", showlegend=False)\n",
        "nadir = go.Scatter3d(x=[0], y=[0], z=[-R], mode=\"markers+text\",\n",
        "                     marker=dict(size=6, color=\"purple\"), text=[\"Nadir\"], textposition=\"bottom center\", showlegend=False)\n",
        "\n",
        "north = go.Scatter3d(x=[0], y=[R], z=[0], mode=\"text\", text=[\"N\"], showlegend=False)\n",
        "south = go.Scatter3d(x=[0], y=[-R], z=[0], mode=\"text\", text=[\"S\"], showlegend=False)\n",
        "east = go.Scatter3d(x=[R], y=[0], z=[0], mode=\"text\", text=[\"E\"], showlegend=False)\n",
        "west = go.Scatter3d(x=[-R], y=[0], z=[0], mode=\"text\", text=[\"W\"], showlegend=False)\n",
        "\n",
        "alm_traces = [almucantar_trace(60), almucantar_trace(30), almucantar_trace(-30), almucantar_trace(-60)]\n",
        "\n",
        "az_options = list(range(0, 360, 45))\n",
        "vert_traces = [vertical_circle_trace(az) for az in az_options]\n",
        "\n",
        "default_az = 0\n",
        "default_alt = 45\n",
        "x_star, y_star, z_star = sph_to_cart(default_alt, default_az)\n",
        "star_trace = go.Scatter3d(x=[x_star], y=[y_star], z=[z_star],\n",
        "                          mode=\"markers+text\", marker=dict(size=6, color=\"red\"),\n",
        "                          text=[\"Star\"], textposition=\"top center\", name=\"Star\")\n",
        "\n",
        "fig = FigureWidget(data=[sphere, horizon, zenith, nadir, north, south, east, west] + alm_traces + vert_traces + [star_trace])\n",
        "\n",
        "idx = {\n",
        "    \"alm_start\": 8,\n",
        "    \"vert_start\": 12,\n",
        "    \"star\": 20\n",
        "}\n",
        "\n",
        "fig.data[idx[\"vert_start\"] + az_options.index(default_az)].visible = True\n",
        "\n",
        "fig.update_layout(\n",
        "    scene=dict(xaxis=dict(showbackground=False, visible=False),\n",
        "               yaxis=dict(showbackground=False, visible=False),\n",
        "               zaxis=dict(showbackground=False, visible=False),\n",
        "               aspectmode='data'),\n",
        "    margin=dict(l=0, r=0, b=0, t=30),\n",
        "    legend=dict(x=0.75, y=0.85, bgcolor=\"rgba(255,255,255,0.5)\"),\n",
        "    title=\"Horizon System — vertical circle & star placement\"\n",
        ")\n",
        "\n",
        "vert_dropdown = widgets.Dropdown(options=[(f\"{a}°\", a) for a in az_options],\n",
        "                                 value=default_az, description=\"Vertical Azimuth:\")\n",
        "alm_checkbox = widgets.Checkbox(value=False, description=\"Show Almucantars (±30°, ±60°)\")\n",
        "alt_slider = widgets.FloatSlider(value=default_alt, min=-89, max=89, step=0.5, description=\"Star Alt (°):\")\n",
        "result_box = widgets.HTML(value=\"\")\n",
        "\n",
        "def update_star_position(alt_deg, az_deg):\n",
        "    x, y, z = sph_to_cart(alt_deg, az_deg)\n",
        "    fig.data[idx[\"star\"]].x = [x]\n",
        "    fig.data[idx[\"star\"]].y = [y]\n",
        "    fig.data[idx[\"star\"]].z = [z]\n",
        "    zdist = 90 - alt_deg\n",
        "    result_box.value = (f\"<b>Star (constrained to vertical circle)</b><br>\"\n",
        "                        f\"Altitude (h): {alt_deg:.2f}°<br>\"\n",
        "                        f\"Azimuth (A): {az_deg:.2f}°<br>\"\n",
        "                        f\"Zenith distance (z): {zdist:.2f}°\")\n",
        "\n",
        "def on_vert_change(change):\n",
        "    sel_az = change[\"new\"]\n",
        "    for i, az in enumerate(az_options):\n",
        "        fig.data[idx[\"vert_start\"] + i].visible = (az == sel_az)\n",
        "    update_star_position(alt_slider.value, sel_az)\n",
        "\n",
        "def on_alm_toggle(change):\n",
        "    show = change[\"new\"]\n",
        "    for i in range(idx[\"alm_start\"], idx[\"alm_start\"] + len(alm_traces)):\n",
        "        fig.data[i].visible = show\n",
        "\n",
        "def on_alt_change(change):\n",
        "    update_star_position(change[\"new\"], vert_dropdown.value)\n",
        "\n",
        "vert_dropdown.observe(on_vert_change, names='value')\n",
        "alm_checkbox.observe(on_alm_toggle, names='value')\n",
        "alt_slider.observe(on_alt_change, names='value')\n",
        "\n",
        "update_star_position(default_alt, default_az)\n",
        "\n",
        "controls = widgets.VBox([widgets.HBox([vert_dropdown, alm_checkbox]), alt_slider, result_box])\n",
        "display(fig)\n",
        "display(controls)\n"
      ],
      "metadata": {
        "id": "pnDGs_yuH_AI"
      },
      "execution_count": null,
      "outputs": []
    }
  ]
}