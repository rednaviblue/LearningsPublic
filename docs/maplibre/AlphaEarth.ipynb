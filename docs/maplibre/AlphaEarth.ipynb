{
  "cells": [
    {
      "cell_type": "markdown",
      "metadata": {
        "id": "view-in-github",
        "colab_type": "text"
      },
      "source": [
        "<a href=\"https://colab.research.google.com/github/rednaviblue/LearningsPublic/blob/Geomatics/docs/maplibre/AlphaEarth.ipynb\" target=\"_parent\"><img src=\"https://colab.research.google.com/assets/colab-badge.svg\" alt=\"Open In Colab\"/></a>"
      ]
    },
    {
      "cell_type": "markdown",
      "id": "0",
      "metadata": {
        "id": "0"
      },
      "source": [
        "[![image](https://jupyterlite.rtfd.io/en/latest/_static/badge.svg)](https://demo.leafmap.org/lab/index.html?path=maplibre/AlphaEarth.ipynb)\n",
        "[![image](https://colab.research.google.com/assets/colab-badge.svg)](https://colab.research.google.com/github/opengeos/leafmap/blob/master/docs/maplibre/AlphaEarth.ipynb)\n",
        "[![image](https://mybinder.org/badge_logo.svg)](https://mybinder.org/v2/gh/opengeos/leafmap/HEAD)\n",
        "\n",
        "**Visualize AlphaEarth satellite embeddings in 3D**\n",
        "\n",
        "Google DeepMind has released a new satellite embedding dataset called AlphaEarth. This dataset contains annual satellite embeddings from 2017 to 2024, with each pixel representing a 10x10 meter area. The dataset is available on Google Earth Engine, and can be used to train machine learning models to classify satellite imagery.\n",
        "\n",
        "- News release: https://deepmind.google/discover/blog/alphaearth-foundations-helps-map-our-planet-in-unprecedented-detail/\n",
        "- Dataset: https://developers.google.com/earth-engine/datasets/catalog/GOOGLE_SATELLITE_EMBEDDING_V1_ANNUAL#description\n",
        "- Paper: https://storage.googleapis.com/deepmind-media/DeepMind.com/Blog/alphaearth-foundations-helps-map-our-planet-in-unprecedented-detail/alphaearth-foundations.pdf\n",
        "- Blog post: https://medium.com/google-earth/ai-powered-pixels-introducing-googles-satellite-embedding-dataset-31744c1f4650\n",
        "- Tutorials: https://developers.google.com/earth-engine/tutorials/community/satellite-embedding-01-introduction\n",
        "- Similarity search: https://earthengine-ai.projects.earthengine.app/view/embedding-similarity-search\n",
        "- Clustering: https://code.earthengine.google.com/b0871454add885294f633f731b90f946\n",
        "\n",
        "\n",
        "Uncomment the following line to install [leafmap](https://leafmap.org) if needed."
      ]
    },
    {
      "cell_type": "code",
      "execution_count": null,
      "id": "1",
      "metadata": {
        "id": "1"
      },
      "outputs": [],
      "source": [
        "%pip install -U leafmap"
      ]
    },
    {
      "cell_type": "code",
      "execution_count": 6,
      "id": "2",
      "metadata": {
        "id": "2"
      },
      "outputs": [],
      "source": [
        "import ee\n",
        "import leafmap.maplibregl as leafmap"
      ]
    },
    {
      "cell_type": "code",
      "source": [
        "from google.colab import drive\n",
        "drive.mount('/content/drive')"
      ],
      "metadata": {
        "colab": {
          "base_uri": "https://localhost:8080/"
        },
        "id": "8jxetYjelJu7",
        "outputId": "c78409d0-3e9f-499d-be38-63a505186c00"
      },
      "id": "8jxetYjelJu7",
      "execution_count": 8,
      "outputs": [
        {
          "output_type": "stream",
          "name": "stdout",
          "text": [
            "Mounted at /content/drive\n"
          ]
        }
      ]
    },
    {
      "cell_type": "markdown",
      "id": "3",
      "metadata": {
        "id": "3"
      },
      "source": [
        "To use the AlphaEarth satellite embeddings, you will need to authenticate with Earth Engine.\n",
        "\n",
        "If you don't have an Earth Engine account, you can create one at https://earthengine.google.com.\n",
        "\n",
        "Once you have an Earth Engine account, you can authenticate with Earth Engine by running the following code:"
      ]
    },
    {
      "cell_type": "code",
      "execution_count": 9,
      "id": "4",
      "metadata": {
        "id": "4"
      },
      "outputs": [],
      "source": [
        "ee.Authenticate()\n",
        "ee.Initialize(project=\"project-testred\")"
      ]
    },
    {
      "cell_type": "code",
      "execution_count": null,
      "id": "5",
      "metadata": {
        "id": "5"
      },
      "outputs": [],
      "source": [
        "m = leafmap.Map(projection=\"globe\", sidebar_visible=True)\n",
        "m.add_basemap(\"USGS.Topographic\") # Changed basemap to USGS.Topographic\n",
        "m.add_basemap(\"OpenTopoMap\")\n",
        "m.add_basemap(\"OpenStreetMap\")\n",
        "m.add_basemap(\"CartoDB.DarkMatter\")\n",
        "m.add_basemap(\"CartoDB.Positron\")\n",
        "m.add_alphaearth_gui()\n",
        "m"
      ]
    },
    {
      "cell_type": "markdown",
      "id": "6",
      "metadata": {
        "id": "6"
      },
      "source": [
        "![](https://github.com/user-attachments/assets/fdcf844e-6385-4e62-a49f-363c00fa0998)"
      ]
    },
    {
      "cell_type": "code",
      "execution_count": null,
      "id": "7",
      "metadata": {
        "id": "7"
      },
      "outputs": [],
      "source": [
        "m = leafmap.Map(projection=\"globe\", sidebar_visible=True)\n",
        "m.add_basemap(\"USGS.Imagery\")\n",
        "m"
      ]
    },
    {
      "cell_type": "code",
      "execution_count": 20,
      "id": "8",
      "metadata": {
        "colab": {
          "base_uri": "https://localhost:8080/",
          "height": 17
        },
        "id": "8",
        "outputId": "aea9d3d2-2caa-4c99-ab3b-e9cb4712fa39"
      },
      "outputs": [
        {
          "output_type": "display_data",
          "data": {
            "text/plain": [
              "<IPython.core.display.HTML object>"
            ],
            "text/html": [
              "\n",
              "            <style>\n",
              "                .geemap-dark {\n",
              "                    --jp-widgets-color: white;\n",
              "                    --jp-widgets-label-color: white;\n",
              "                    --jp-ui-font-color1: white;\n",
              "                    --jp-layout-color2: #454545;\n",
              "                    background-color: #383838;\n",
              "                }\n",
              "\n",
              "                .geemap-dark .jupyter-button {\n",
              "                    --jp-layout-color3: #383838;\n",
              "                }\n",
              "\n",
              "                .geemap-colab {\n",
              "                    background-color: var(--colab-primary-surface-color, white);\n",
              "                }\n",
              "\n",
              "                .geemap-colab .jupyter-button {\n",
              "                    --jp-layout-color3: var(--colab-primary-surface-color, white);\n",
              "                }\n",
              "            </style>\n",
              "            "
            ]
          },
          "metadata": {}
        }
      ],
      "source": [
        "lon = 125.61641740762558\n",
        "lat = 7.086001503364461\n",
        "m.set_center(lon, lat, zoom=12)"
      ]
    },
    {
      "cell_type": "code",
      "execution_count": 17,
      "id": "9",
      "metadata": {
        "colab": {
          "base_uri": "https://localhost:8080/",
          "height": 17
        },
        "id": "9",
        "outputId": "59bb3617-0643-4970-c9f5-6f47a9ee0e43"
      },
      "outputs": [
        {
          "output_type": "display_data",
          "data": {
            "text/plain": [
              "<IPython.core.display.HTML object>"
            ],
            "text/html": [
              "\n",
              "            <style>\n",
              "                .geemap-dark {\n",
              "                    --jp-widgets-color: white;\n",
              "                    --jp-widgets-label-color: white;\n",
              "                    --jp-ui-font-color1: white;\n",
              "                    --jp-layout-color2: #454545;\n",
              "                    background-color: #383838;\n",
              "                }\n",
              "\n",
              "                .geemap-dark .jupyter-button {\n",
              "                    --jp-layout-color3: #383838;\n",
              "                }\n",
              "\n",
              "                .geemap-colab {\n",
              "                    background-color: var(--colab-primary-surface-color, white);\n",
              "                }\n",
              "\n",
              "                .geemap-colab .jupyter-button {\n",
              "                    --jp-layout-color3: var(--colab-primary-surface-color, white);\n",
              "                }\n",
              "            </style>\n",
              "            "
            ]
          },
          "metadata": {}
        }
      ],
      "source": [
        "point = ee.Geometry.Point(lon, lat)\n",
        "dataset = ee.ImageCollection(\"GOOGLE/SATELLITE_EMBEDDING/V1/ANNUAL\")"
      ]
    },
    {
      "cell_type": "code",
      "execution_count": 18,
      "id": "10",
      "metadata": {
        "colab": {
          "base_uri": "https://localhost:8080/",
          "height": 17
        },
        "id": "10",
        "outputId": "fea53de2-677b-4ddf-8782-9b3ec777507a"
      },
      "outputs": [
        {
          "output_type": "display_data",
          "data": {
            "text/plain": [
              "<IPython.core.display.HTML object>"
            ],
            "text/html": [
              "\n",
              "            <style>\n",
              "                .geemap-dark {\n",
              "                    --jp-widgets-color: white;\n",
              "                    --jp-widgets-label-color: white;\n",
              "                    --jp-ui-font-color1: white;\n",
              "                    --jp-layout-color2: #454545;\n",
              "                    background-color: #383838;\n",
              "                }\n",
              "\n",
              "                .geemap-dark .jupyter-button {\n",
              "                    --jp-layout-color3: #383838;\n",
              "                }\n",
              "\n",
              "                .geemap-colab {\n",
              "                    background-color: var(--colab-primary-surface-color, white);\n",
              "                }\n",
              "\n",
              "                .geemap-colab .jupyter-button {\n",
              "                    --jp-layout-color3: var(--colab-primary-surface-color, white);\n",
              "                }\n",
              "            </style>\n",
              "            "
            ]
          },
          "metadata": {}
        }
      ],
      "source": [
        "image1 = dataset.filterDate(\"2017-01-01\", \"2018-01-01\").filterBounds(point).first()\n",
        "image2 = dataset.filterDate(\"2024-01-01\", \"2025-01-01\").filterBounds(point).first()"
      ]
    },
    {
      "cell_type": "code",
      "execution_count": 25,
      "id": "11",
      "metadata": {
        "colab": {
          "base_uri": "https://localhost:8080/",
          "height": 17
        },
        "id": "11",
        "outputId": "6ccecb7e-b8c5-4551-9f16-95696ec8181b"
      },
      "outputs": [
        {
          "output_type": "display_data",
          "data": {
            "text/plain": [
              "<IPython.core.display.HTML object>"
            ],
            "text/html": [
              "\n",
              "            <style>\n",
              "                .geemap-dark {\n",
              "                    --jp-widgets-color: white;\n",
              "                    --jp-widgets-label-color: white;\n",
              "                    --jp-ui-font-color1: white;\n",
              "                    --jp-layout-color2: #454545;\n",
              "                    background-color: #383838;\n",
              "                }\n",
              "\n",
              "                .geemap-dark .jupyter-button {\n",
              "                    --jp-layout-color3: #383838;\n",
              "                }\n",
              "\n",
              "                .geemap-colab {\n",
              "                    background-color: var(--colab-primary-surface-color, white);\n",
              "                }\n",
              "\n",
              "                .geemap-colab .jupyter-button {\n",
              "                    --jp-layout-color3: var(--colab-primary-surface-color, white);\n",
              "                }\n",
              "            </style>\n",
              "            "
            ]
          },
          "metadata": {}
        }
      ],
      "source": [
        "vis_params = {\"min\": -0.22145328719723184, \"max\": 0.2069357939254133, \"bands\": [\"A01\", \"A16\", \"A09\"]}\n",
        "m.add_ee_layer(image1, vis_params, name=\"Year 1 embeddings\")\n",
        "m.add_ee_layer(image2, vis_params, name=\"Year 2 embeddings\")"
      ]
    },
    {
      "cell_type": "code",
      "execution_count": null,
      "id": "12",
      "metadata": {
        "id": "12"
      },
      "outputs": [],
      "source": [
        "dot_prod = image1.multiply(image2).reduce(ee.Reducer.sum())"
      ]
    },
    {
      "cell_type": "code",
      "execution_count": null,
      "id": "13",
      "metadata": {
        "id": "13"
      },
      "outputs": [],
      "source": [
        "vis_params = {\"min\": 0, \"max\": 1, \"palette\": [\"white\", \"black\"]}\n",
        "m.add_ee_layer(dot_prod, vis_params, name=\"Similarity\")\n",
        "m"
      ]
    },
    {
      "cell_type": "markdown",
      "id": "14",
      "metadata": {
        "id": "14"
      },
      "source": [
        "![](https://github.com/user-attachments/assets/f7613474-f097-483e-9b24-a188c9d0d430)"
      ]
    },
    {
      "cell_type": "markdown",
      "metadata": {
        "id": "6773ffbe"
      },
      "source": [
        "# Task\n",
        "Determine the appropriate visualization range for a 10-hectare area based on the distribution of embedding values within that area."
      ],
      "id": "6773ffbe"
    },
    {
      "cell_type": "markdown",
      "metadata": {
        "id": "03c4768c"
      },
      "source": [
        "## Define the area of interest\n",
        "\n",
        "### Subtask:\n",
        "Create an Earth Engine Geometry representing your 10-hectare area.\n"
      ],
      "id": "03c4768c"
    },
    {
      "cell_type": "markdown",
      "metadata": {
        "id": "b80a66c9"
      },
      "source": [
        "**Reasoning**:\n",
        "Calculate the radius for a 10-hectare circle and create an Earth Engine Geometry representing the 10-hectare area around the existing point.\n",
        "\n"
      ],
      "id": "b80a66c9"
    },
    {
      "cell_type": "code",
      "metadata": {
        "colab": {
          "base_uri": "https://localhost:8080/",
          "height": 451
        },
        "id": "d0017f5f",
        "outputId": "32712d4e-69ce-436b-c7ef-297a80537cb1"
      },
      "source": [
        "import math\n",
        "\n",
        "# Calculate the radius for a 10-hectare circle (100,000 sq meters)\n",
        "area_sq_meters = 100000\n",
        "radius_meters = math.sqrt(area_sq_meters / math.pi)\n",
        "\n",
        "# Create an Earth Engine Geometry representing the 10-hectare area\n",
        "aoi = ee.Geometry.Point(lon, lat).buffer(radius_meters)\n",
        "\n",
        "# Print the area of interest\n",
        "display(aoi.getInfo())"
      ],
      "id": "d0017f5f",
      "execution_count": 21,
      "outputs": [
        {
          "output_type": "display_data",
          "data": {
            "text/plain": [
              "<IPython.core.display.HTML object>"
            ],
            "text/html": [
              "\n",
              "            <style>\n",
              "                .geemap-dark {\n",
              "                    --jp-widgets-color: white;\n",
              "                    --jp-widgets-label-color: white;\n",
              "                    --jp-ui-font-color1: white;\n",
              "                    --jp-layout-color2: #454545;\n",
              "                    background-color: #383838;\n",
              "                }\n",
              "\n",
              "                .geemap-dark .jupyter-button {\n",
              "                    --jp-layout-color3: #383838;\n",
              "                }\n",
              "\n",
              "                .geemap-colab {\n",
              "                    background-color: var(--colab-primary-surface-color, white);\n",
              "                }\n",
              "\n",
              "                .geemap-colab .jupyter-button {\n",
              "                    --jp-layout-color3: var(--colab-primary-surface-color, white);\n",
              "                }\n",
              "            </style>\n",
              "            "
            ]
          },
          "metadata": {}
        },
        {
          "output_type": "display_data",
          "data": {
            "text/plain": [
              "{'type': 'Polygon',\n",
              " 'coordinates': [[[125.61641740762559, 7.087607012740675],\n",
              "   [125.61596551437479, 7.0875431132493345],\n",
              "   [125.6155495921782, 7.087356501225547],\n",
              "   [125.61520274868434, 7.087062031122742],\n",
              "   [125.61495259269189, 7.0866831429404975],\n",
              "   [125.61481903647177, 7.086249996344586],\n",
              "   [125.61481271079577, 7.085797069905619],\n",
              "   [125.61493411882188, 7.085360416573149],\n",
              "   [125.61517359615716, 7.084974793859316],\n",
              "   [125.61551208024126, 7.084670897169957],\n",
              "   [125.61592262777768, 7.084472916500918],\n",
              "   [125.6163725594086, 7.084396610970729],\n",
              "   [125.6168260609213, 7.084448054439311],\n",
              "   [125.61724703395176, 7.084623152047529],\n",
              "   [125.61760196930335, 7.0849079661552],\n",
              "   [125.61786261419866, 7.0852798257368645],\n",
              "   [125.6180082211768, 7.08570913094004],\n",
              "   [125.61802719963089, 7.086161709180347],\n",
              "   [125.61791803851133, 7.086601535244968],\n",
              "   [125.6176894267192, 7.08699359889486],\n",
              "   [125.61735956157068, 7.087306691706076],\n",
              "   [125.61695470034788, 7.087515891309445],\n",
              "   [125.61650707021396, 7.087604545267766],\n",
              "   [125.61641740762559, 7.087607012740675]]]}"
            ]
          },
          "metadata": {}
        }
      ]
    },
    {
      "cell_type": "markdown",
      "metadata": {
        "id": "266cf634"
      },
      "source": [
        "## Sample the embedding image\n",
        "\n",
        "### Subtask:\n",
        "Extract the embedding values from the `image1` within the defined area of interest.\n"
      ],
      "id": "266cf634"
    },
    {
      "cell_type": "markdown",
      "metadata": {
        "id": "73e824c1"
      },
      "source": [
        "**Reasoning**:\n",
        "Extract the embedding values from the image within the defined area of interest using `sampleRegions` and store them in a list of dictionaries.\n",
        "\n"
      ],
      "id": "73e824c1"
    },
    {
      "cell_type": "code",
      "metadata": {
        "colab": {
          "base_uri": "https://localhost:8080/",
          "height": 17
        },
        "id": "44f3d322",
        "outputId": "36a17c7c-f8f3-4294-f45f-85044e70beb1"
      },
      "source": [
        "embedding_values_list = image1.sampleRegions(\n",
        "    collection=aoi,\n",
        "    scale=10,\n",
        "    geometries=True\n",
        ").getInfo()"
      ],
      "id": "44f3d322",
      "execution_count": 22,
      "outputs": [
        {
          "output_type": "display_data",
          "data": {
            "text/plain": [
              "<IPython.core.display.HTML object>"
            ],
            "text/html": [
              "\n",
              "            <style>\n",
              "                .geemap-dark {\n",
              "                    --jp-widgets-color: white;\n",
              "                    --jp-widgets-label-color: white;\n",
              "                    --jp-ui-font-color1: white;\n",
              "                    --jp-layout-color2: #454545;\n",
              "                    background-color: #383838;\n",
              "                }\n",
              "\n",
              "                .geemap-dark .jupyter-button {\n",
              "                    --jp-layout-color3: #383838;\n",
              "                }\n",
              "\n",
              "                .geemap-colab {\n",
              "                    background-color: var(--colab-primary-surface-color, white);\n",
              "                }\n",
              "\n",
              "                .geemap-colab .jupyter-button {\n",
              "                    --jp-layout-color3: var(--colab-primary-surface-color, white);\n",
              "                }\n",
              "            </style>\n",
              "            "
            ]
          },
          "metadata": {}
        }
      ]
    },
    {
      "cell_type": "markdown",
      "metadata": {
        "id": "c35da017"
      },
      "source": [
        "## Analyze the data distribution\n",
        "\n",
        "### Subtask:\n",
        "Calculate statistics (e.g., minimum, maximum, percentiles) of the sampled embedding values to understand their distribution.\n"
      ],
      "id": "c35da017"
    },
    {
      "cell_type": "markdown",
      "metadata": {
        "id": "960b9865"
      },
      "source": [
        "**Reasoning**:\n",
        "Extract the embedding values from the list of dictionaries and calculate the required statistics.\n",
        "\n"
      ],
      "id": "960b9865"
    },
    {
      "cell_type": "code",
      "metadata": {
        "colab": {
          "base_uri": "https://localhost:8080/",
          "height": 86
        },
        "id": "8d779c45",
        "outputId": "1619cb7e-cc26-4815-957f-19bb4611c2d0"
      },
      "source": [
        "import numpy as np\n",
        "\n",
        "embedding_values = []\n",
        "for feature in embedding_values_list['features']:\n",
        "  for band, value in feature['properties'].items():\n",
        "    if band.startswith('A'):  # Assuming embedding bands start with 'A'\n",
        "      embedding_values.append(value)\n",
        "\n",
        "embedding_values = np.array(embedding_values)\n",
        "\n",
        "min_embedding = np.min(embedding_values)\n",
        "max_embedding = np.max(embedding_values)\n",
        "percentile_5 = np.percentile(embedding_values, 5)\n",
        "percentile_95 = np.percentile(embedding_values, 95)\n",
        "\n",
        "print(f\"Minimum embedding value: {min_embedding}\")\n",
        "print(f\"Maximum embedding value: {max_embedding}\")\n",
        "print(f\"5th percentile of embedding values: {percentile_5}\")\n",
        "print(f\"95th percentile of embedding values: {percentile_95}\")"
      ],
      "id": "8d779c45",
      "execution_count": 23,
      "outputs": [
        {
          "output_type": "display_data",
          "data": {
            "text/plain": [
              "<IPython.core.display.HTML object>"
            ],
            "text/html": [
              "\n",
              "            <style>\n",
              "                .geemap-dark {\n",
              "                    --jp-widgets-color: white;\n",
              "                    --jp-widgets-label-color: white;\n",
              "                    --jp-ui-font-color1: white;\n",
              "                    --jp-layout-color2: #454545;\n",
              "                    background-color: #383838;\n",
              "                }\n",
              "\n",
              "                .geemap-dark .jupyter-button {\n",
              "                    --jp-layout-color3: #383838;\n",
              "                }\n",
              "\n",
              "                .geemap-colab {\n",
              "                    background-color: var(--colab-primary-surface-color, white);\n",
              "                }\n",
              "\n",
              "                .geemap-colab .jupyter-button {\n",
              "                    --jp-layout-color3: var(--colab-primary-surface-color, white);\n",
              "                }\n",
              "            </style>\n",
              "            "
            ]
          },
          "metadata": {}
        },
        {
          "output_type": "stream",
          "name": "stdout",
          "text": [
            "Minimum embedding value: -0.3553094963475586\n",
            "Maximum embedding value: 0.37425605536332185\n",
            "5th percentile of embedding values: -0.22145328719723184\n",
            "95th percentile of embedding values: 0.2069357939254133\n"
          ]
        }
      ]
    },
    {
      "cell_type": "markdown",
      "metadata": {
        "id": "0af62698"
      },
      "source": [
        "## Suggest visualization parameters\n",
        "\n",
        "### Subtask:\n",
        "Based on the data distribution, recommend a suitable `min` and `max` range for visualization.\n"
      ],
      "id": "0af62698"
    },
    {
      "cell_type": "markdown",
      "metadata": {
        "id": "7b554b0b"
      },
      "source": [
        "**Reasoning**:\n",
        "Determine the recommended min and max visualization range based on the calculated percentiles and print the results.\n",
        "\n"
      ],
      "id": "7b554b0b"
    },
    {
      "cell_type": "code",
      "metadata": {
        "colab": {
          "base_uri": "https://localhost:8080/",
          "height": 52
        },
        "id": "bea0b889",
        "outputId": "064c5252-1afe-445a-c49c-29a9df419e13"
      },
      "source": [
        "# Determine the recommended min and max visualization range using the 5th and 95th percentiles\n",
        "recommended_min_vis = percentile_5\n",
        "recommended_max_vis = percentile_95\n",
        "\n",
        "# Print the recommended visualization parameters\n",
        "print(f\"Recommended minimum visualization value: {recommended_min_vis}\")\n",
        "print(f\"Recommended maximum visualization value: {recommended_max_vis}\")"
      ],
      "id": "bea0b889",
      "execution_count": 24,
      "outputs": [
        {
          "output_type": "display_data",
          "data": {
            "text/plain": [
              "<IPython.core.display.HTML object>"
            ],
            "text/html": [
              "\n",
              "            <style>\n",
              "                .geemap-dark {\n",
              "                    --jp-widgets-color: white;\n",
              "                    --jp-widgets-label-color: white;\n",
              "                    --jp-ui-font-color1: white;\n",
              "                    --jp-layout-color2: #454545;\n",
              "                    background-color: #383838;\n",
              "                }\n",
              "\n",
              "                .geemap-dark .jupyter-button {\n",
              "                    --jp-layout-color3: #383838;\n",
              "                }\n",
              "\n",
              "                .geemap-colab {\n",
              "                    background-color: var(--colab-primary-surface-color, white);\n",
              "                }\n",
              "\n",
              "                .geemap-colab .jupyter-button {\n",
              "                    --jp-layout-color3: var(--colab-primary-surface-color, white);\n",
              "                }\n",
              "            </style>\n",
              "            "
            ]
          },
          "metadata": {}
        },
        {
          "output_type": "stream",
          "name": "stdout",
          "text": [
            "Recommended minimum visualization value: -0.22145328719723184\n",
            "Recommended maximum visualization value: 0.2069357939254133\n"
          ]
        }
      ]
    },
    {
      "cell_type": "markdown",
      "metadata": {
        "id": "659c7f07"
      },
      "source": [
        "## Summary:\n",
        "\n",
        "### Data Analysis Key Findings\n",
        "\n",
        "*   The radius for a 10-hectare circular area was calculated to be approximately 178.41 meters.\n",
        "*   Embedding values from the image within the 10-hectare area were successfully extracted.\n",
        "*   The minimum embedding value found was -0.3553, and the maximum was 0.3743.\n",
        "*   The 5th percentile of the embedding values is -0.2215, and the 95th percentile is 0.2069.\n",
        "*   Using the 5th and 95th percentiles, the recommended minimum visualization value is -0.221 and the recommended maximum visualization value is 0.207.\n",
        "\n",
        "### Insights or Next Steps\n",
        "\n",
        "*   Using percentiles for the visualization range helps to exclude extreme outliers, providing a more representative view of the majority of the data distribution.\n",
        "*   These recommended visualization parameters can now be directly applied when displaying the embedding image for the 10-hectare area in Earth Engine or other visualization platforms.\n"
      ],
      "id": "659c7f07"
    },
    {
      "cell_type": "markdown",
      "metadata": {
        "id": "edadea3a"
      },
      "source": [
        "## Define the area of interest\n",
        "\n",
        "### Subtask:\n",
        "Create an Earth Engine Geometry representing your 10-hectare area."
      ],
      "id": "edadea3a"
    },
    {
      "cell_type": "markdown",
      "metadata": {
        "id": "f7196534"
      },
      "source": [
        "**Reasoning**:\n",
        "Calculate the radius for a 10-hectare circle and create an Earth Engine Geometry representing the 10-hectare area around the existing point."
      ],
      "id": "f7196534"
    },
    {
      "cell_type": "code",
      "metadata": {
        "colab": {
          "base_uri": "https://localhost:8080/",
          "height": 451
        },
        "id": "ded43c0d",
        "outputId": "38b70a96-b6ac-4951-8e76-b553945d0604"
      },
      "source": [
        "import math\n",
        "\n",
        "# Calculate the radius for a 10-hectare circle (100,000 sq meters)\n",
        "area_sq_meters = 100000\n",
        "radius_meters = math.sqrt(area_sq_meters / math.pi)\n",
        "\n",
        "# Create an Earth Engine Geometry representing the 10-hectare area\n",
        "aoi = ee.Geometry.Point(lon, lat).buffer(radius_meters)\n",
        "\n",
        "# Print the area of interest\n",
        "display(aoi.getInfo())"
      ],
      "id": "ded43c0d",
      "execution_count": 28,
      "outputs": [
        {
          "output_type": "display_data",
          "data": {
            "text/plain": [
              "<IPython.core.display.HTML object>"
            ],
            "text/html": [
              "\n",
              "            <style>\n",
              "                .geemap-dark {\n",
              "                    --jp-widgets-color: white;\n",
              "                    --jp-widgets-label-color: white;\n",
              "                    --jp-ui-font-color1: white;\n",
              "                    --jp-layout-color2: #454545;\n",
              "                    background-color: #383838;\n",
              "                }\n",
              "\n",
              "                .geemap-dark .jupyter-button {\n",
              "                    --jp-layout-color3: #383838;\n",
              "                }\n",
              "\n",
              "                .geemap-colab {\n",
              "                    background-color: var(--colab-primary-surface-color, white);\n",
              "                }\n",
              "\n",
              "                .geemap-colab .jupyter-button {\n",
              "                    --jp-layout-color3: var(--colab-primary-surface-color, white);\n",
              "                }\n",
              "            </style>\n",
              "            "
            ]
          },
          "metadata": {}
        },
        {
          "output_type": "display_data",
          "data": {
            "text/plain": [
              "{'type': 'Polygon',\n",
              " 'coordinates': [[[125.61641740762559, 7.087607012740675],\n",
              "   [125.61596551437479, 7.0875431132493345],\n",
              "   [125.6155495921782, 7.087356501225547],\n",
              "   [125.61520274868434, 7.087062031122742],\n",
              "   [125.61495259269189, 7.0866831429404975],\n",
              "   [125.61481903647177, 7.086249996344586],\n",
              "   [125.61481271079577, 7.085797069905619],\n",
              "   [125.61493411882188, 7.085360416573149],\n",
              "   [125.61517359615716, 7.084974793859316],\n",
              "   [125.61551208024126, 7.084670897169957],\n",
              "   [125.61592262777768, 7.084472916500918],\n",
              "   [125.6163725594086, 7.084396610970729],\n",
              "   [125.6168260609213, 7.084448054439311],\n",
              "   [125.61724703395176, 7.084623152047529],\n",
              "   [125.61760196930335, 7.0849079661552],\n",
              "   [125.61786261419866, 7.0852798257368645],\n",
              "   [125.6180082211768, 7.08570913094004],\n",
              "   [125.61802719963089, 7.086161709180347],\n",
              "   [125.61791803851133, 7.086601535244968],\n",
              "   [125.6176894267192, 7.08699359889486],\n",
              "   [125.61735956157068, 7.087306691706076],\n",
              "   [125.61695470034788, 7.087515891309445],\n",
              "   [125.61650707021396, 7.087604545267766],\n",
              "   [125.61641740762559, 7.087607012740675]]]}"
            ]
          },
          "metadata": {}
        }
      ]
    },
    {
      "cell_type": "markdown",
      "metadata": {
        "id": "7473e235"
      },
      "source": [
        "## Sample the embedding image\n",
        "\n",
        "### Subtask:\n",
        "Extract the embedding values from the `image1` within the defined area of interest."
      ],
      "id": "7473e235"
    },
    {
      "cell_type": "markdown",
      "metadata": {
        "id": "f4498fef"
      },
      "source": [
        "**Reasoning**:\n",
        "Extract the embedding values from the image within the defined area of interest using `sampleRegions` and store them in a list of dictionaries."
      ],
      "id": "f4498fef"
    },
    {
      "cell_type": "code",
      "metadata": {
        "colab": {
          "base_uri": "https://localhost:8080/",
          "height": 17
        },
        "id": "e15317be",
        "outputId": "25419870-007f-4fc1-803c-f3494c88be15"
      },
      "source": [
        "embedding_values_list = image1.sampleRegions(\n",
        "    collection=aoi,\n",
        "    scale=10,\n",
        "    geometries=True\n",
        ").getInfo()"
      ],
      "id": "e15317be",
      "execution_count": 29,
      "outputs": [
        {
          "output_type": "display_data",
          "data": {
            "text/plain": [
              "<IPython.core.display.HTML object>"
            ],
            "text/html": [
              "\n",
              "            <style>\n",
              "                .geemap-dark {\n",
              "                    --jp-widgets-color: white;\n",
              "                    --jp-widgets-label-color: white;\n",
              "                    --jp-ui-font-color1: white;\n",
              "                    --jp-layout-color2: #454545;\n",
              "                    background-color: #383838;\n",
              "                }\n",
              "\n",
              "                .geemap-dark .jupyter-button {\n",
              "                    --jp-layout-color3: #383838;\n",
              "                }\n",
              "\n",
              "                .geemap-colab {\n",
              "                    background-color: var(--colab-primary-surface-color, white);\n",
              "                }\n",
              "\n",
              "                .geemap-colab .jupyter-button {\n",
              "                    --jp-layout-color3: var(--colab-primary-surface-color, white);\n",
              "                }\n",
              "            </style>\n",
              "            "
            ]
          },
          "metadata": {}
        }
      ]
    },
    {
      "cell_type": "markdown",
      "metadata": {
        "id": "c8e70a7c"
      },
      "source": [
        "## Analyze the data distribution\n",
        "\n",
        "### Subtask:\n",
        "Calculate statistics (e.g., minimum, maximum, percentiles) of the sampled embedding values to understand their distribution."
      ],
      "id": "c8e70a7c"
    },
    {
      "cell_type": "markdown",
      "metadata": {
        "id": "e7469a03"
      },
      "source": [
        "**Reasoning**:\n",
        "Extract the embedding values from the list of dictionaries and calculate the required statistics."
      ],
      "id": "e7469a03"
    },
    {
      "cell_type": "code",
      "metadata": {
        "colab": {
          "base_uri": "https://localhost:8080/",
          "height": 86
        },
        "id": "b5601425",
        "outputId": "078f81a7-56d7-4ba1-8fa2-17be4b461586"
      },
      "source": [
        "import numpy as np\n",
        "\n",
        "embedding_values = []\n",
        "for feature in embedding_values_list['features']:\n",
        "  for band, value in feature['properties'].items():\n",
        "    if band.startswith('A'):  # Assuming embedding bands start with 'A'\n",
        "      embedding_values.append(value)\n",
        "\n",
        "embedding_values = np.array(embedding_values)\n",
        "\n",
        "min_embedding = np.min(embedding_values)\n",
        "max_embedding = np.max(embedding_values)\n",
        "percentile_5 = np.percentile(embedding_values, 5)\n",
        "percentile_95 = np.percentile(embedding_values, 95)\n",
        "\n",
        "print(f\"Minimum embedding value: {min_embedding}\")\n",
        "print(f\"Maximum embedding value: {max_embedding}\")\n",
        "print(f\"5th percentile of embedding values: {percentile_5}\")\n",
        "print(f\"95th percentile of embedding values: {percentile_95}\")"
      ],
      "id": "b5601425",
      "execution_count": 30,
      "outputs": [
        {
          "output_type": "display_data",
          "data": {
            "text/plain": [
              "<IPython.core.display.HTML object>"
            ],
            "text/html": [
              "\n",
              "            <style>\n",
              "                .geemap-dark {\n",
              "                    --jp-widgets-color: white;\n",
              "                    --jp-widgets-label-color: white;\n",
              "                    --jp-ui-font-color1: white;\n",
              "                    --jp-layout-color2: #454545;\n",
              "                    background-color: #383838;\n",
              "                }\n",
              "\n",
              "                .geemap-dark .jupyter-button {\n",
              "                    --jp-layout-color3: #383838;\n",
              "                }\n",
              "\n",
              "                .geemap-colab {\n",
              "                    background-color: var(--colab-primary-surface-color, white);\n",
              "                }\n",
              "\n",
              "                .geemap-colab .jupyter-button {\n",
              "                    --jp-layout-color3: var(--colab-primary-surface-color, white);\n",
              "                }\n",
              "            </style>\n",
              "            "
            ]
          },
          "metadata": {}
        },
        {
          "output_type": "stream",
          "name": "stdout",
          "text": [
            "Minimum embedding value: -0.3553094963475586\n",
            "Maximum embedding value: 0.37425605536332185\n",
            "5th percentile of embedding values: -0.22145328719723184\n",
            "95th percentile of embedding values: 0.2069357939254133\n"
          ]
        }
      ]
    },
    {
      "cell_type": "markdown",
      "metadata": {
        "id": "0e7198cd"
      },
      "source": [
        "## Suggest visualization parameters\n",
        "\n",
        "### Subtask:\n",
        "Based on the data distribution, recommend a suitable `min` and `max` range for visualization."
      ],
      "id": "0e7198cd"
    },
    {
      "cell_type": "markdown",
      "metadata": {
        "id": "cf6b601e"
      },
      "source": [
        "**Reasoning**:\n",
        "Determine the recommended min and max visualization range based on the calculated percentiles and print the results."
      ],
      "id": "cf6b601e"
    },
    {
      "cell_type": "code",
      "metadata": {
        "colab": {
          "base_uri": "https://localhost:8080/",
          "height": 52
        },
        "id": "edaee38c",
        "outputId": "85166fd1-e8a9-4d1d-d4cf-2f76f49dbd72"
      },
      "source": [
        "# Determine the recommended min and max visualization range using the 5th and 95th percentiles\n",
        "recommended_min_vis = percentile_5\n",
        "recommended_max_vis = percentile_95\n",
        "\n",
        "# Print the recommended visualization parameters\n",
        "print(f\"Recommended minimum visualization value: {recommended_min_vis}\")\n",
        "print(f\"Recommended maximum visualization value: {recommended_max_vis}\")"
      ],
      "id": "edaee38c",
      "execution_count": 31,
      "outputs": [
        {
          "output_type": "display_data",
          "data": {
            "text/plain": [
              "<IPython.core.display.HTML object>"
            ],
            "text/html": [
              "\n",
              "            <style>\n",
              "                .geemap-dark {\n",
              "                    --jp-widgets-color: white;\n",
              "                    --jp-widgets-label-color: white;\n",
              "                    --jp-ui-font-color1: white;\n",
              "                    --jp-layout-color2: #454545;\n",
              "                    background-color: #383838;\n",
              "                }\n",
              "\n",
              "                .geemap-dark .jupyter-button {\n",
              "                    --jp-layout-color3: #383838;\n",
              "                }\n",
              "\n",
              "                .geemap-colab {\n",
              "                    background-color: var(--colab-primary-surface-color, white);\n",
              "                }\n",
              "\n",
              "                .geemap-colab .jupyter-button {\n",
              "                    --jp-layout-color3: var(--colab-primary-surface-color, white);\n",
              "                }\n",
              "            </style>\n",
              "            "
            ]
          },
          "metadata": {}
        },
        {
          "output_type": "stream",
          "name": "stdout",
          "text": [
            "Recommended minimum visualization value: -0.22145328719723184\n",
            "Recommended maximum visualization value: 0.2069357939254133\n"
          ]
        }
      ]
    },
    {
      "cell_type": "markdown",
      "metadata": {
        "id": "b72a469b"
      },
      "source": [
        "## Summary:\n",
        "\n",
        "### Data Analysis Key Findings\n",
        "\n",
        "* The radius for a 10-hectare circular area was calculated to be approximately 178.41 meters.\n",
        "* Embedding values from the image within the 10-hectare area were successfully extracted.\n",
        "* The minimum embedding value found was {min_embedding:.4f}, and the maximum was {max_embedding:.4f}.\n",
        "* The 5th percentile of the embedding values is {percentile_5:.4f}, and the 95th percentile is {percentile_95:.4f}.\n",
        "* Using the 5th and 95th percentiles, the recommended minimum visualization value is {recommended_min_vis:.3f} and the recommended maximum visualization value is {recommended_max_vis:.3f}.\n",
        "\n",
        "### Insights or Next Steps\n",
        "\n",
        "* Using percentiles for the visualization range helps to exclude extreme outliers, providing a more representative view of the majority of the data distribution.\n",
        "* These recommended visualization parameters can now be directly applied when displaying the embedding image for the 10-hectare area in Earth Engine or other visualization platforms."
      ],
      "id": "b72a469b"
    }
  ],
  "metadata": {
    "kernelspec": {
      "display_name": "geo",
      "language": "python",
      "name": "python3"
    },
    "language_info": {
      "codemirror_mode": {
        "name": "ipython",
        "version": 3
      },
      "file_extension": ".py",
      "mimetype": "text/x-python",
      "name": "python",
      "nbconvert_exporter": "python",
      "pygments_lexer": "ipython3",
      "version": "3.12.2"
    },
    "colab": {
      "provenance": [],
      "include_colab_link": true
    }
  },
  "nbformat": 4,
  "nbformat_minor": 5
}